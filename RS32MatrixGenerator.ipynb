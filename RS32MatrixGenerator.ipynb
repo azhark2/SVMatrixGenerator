{
 "cells": [
  {
   "cell_type": "code",
   "execution_count": 7,
   "metadata": {
    "kernel": "SoS"
   },
   "outputs": [],
   "source": [
    "import pandas as pd\n",
    "import numpy as np\n",
    "import math\n",
    "import os\n",
    "import matplotlib.pyplot as plt\n",
    "from numpy import random\n",
    "from piecewise import piecewise\n",
    "\n",
    "#from GPyOpt.methods import BayesianOptimization"
   ]
  },
  {
   "cell_type": "code",
   "execution_count": 33,
   "metadata": {
    "kernel": "Bash"
   },
   "outputs": [
    {
     "name": "stdout",
     "output_type": "stream",
     "text": [
      "Collecting gpyopt\n",
      "  Downloading GPyOpt-1.2.6.tar.gz (56 kB)\n",
      "\u001b[K     |████████████████████████████████| 56 kB 955 kB/s eta 0:00:011\n",
      "\u001b[?25hRequirement already satisfied: numpy>=1.7 in /Users/azhark/anaconda3/lib/python3.7/site-packages (from gpyopt) (1.18.4)\n",
      "Requirement already satisfied: scipy>=0.16 in /Users/azhark/anaconda3/lib/python3.7/site-packages (from gpyopt) (1.4.1)\n",
      "Collecting GPy>=1.8\n",
      "  Downloading GPy-1.9.9-cp37-cp37m-macosx_10_9_x86_64.whl (1.5 MB)\n",
      "\u001b[K     |████████████████████████████████| 1.5 MB 392 kB/s eta 0:00:01\n",
      "\u001b[?25hCollecting paramz>=0.9.0\n",
      "  Downloading paramz-0.9.5.tar.gz (71 kB)\n",
      "\u001b[K     |████████████████████████████████| 71 kB 1.1 MB/s eta 0:00:011\n",
      "\u001b[?25hRequirement already satisfied: six in /Users/azhark/anaconda3/lib/python3.7/site-packages (from GPy>=1.8->gpyopt) (1.14.0)\n",
      "Requirement already satisfied: decorator>=4.0.10 in /Users/azhark/anaconda3/lib/python3.7/site-packages (from paramz>=0.9.0->GPy>=1.8->gpyopt) (4.4.2)\n",
      "Building wheels for collected packages: gpyopt, paramz\n",
      "  Building wheel for gpyopt (setup.py) ... \u001b[?25ldone\n",
      "\u001b[?25h  Created wheel for gpyopt: filename=GPyOpt-1.2.6-py3-none-any.whl size=83622 sha256=98e4bbff87b4b1cca8546778f782b38bee0f35740a3495c2746cf956a778fce5\n",
      "  Stored in directory: /Users/azhark/Library/Caches/pip/wheels/e6/fa/d1/f9652b5af79f769a0ab74dbead7c7aea9a93c6bc74543fd3ec\n",
      "  Building wheel for paramz (setup.py) ... \u001b[?25ldone\n",
      "\u001b[?25h  Created wheel for paramz: filename=paramz-0.9.5-py3-none-any.whl size=102549 sha256=babe02149cbdf3ae36029bd1157d6a62e72e5ab7fdfcab2a3665b5a758eb38f1\n",
      "  Stored in directory: /Users/azhark/Library/Caches/pip/wheels/c8/95/f5/ce28482da28162e6028c4b3a32c41d147395825b3cd62bc810\n",
      "Successfully built gpyopt paramz\n",
      "Installing collected packages: paramz, GPy, gpyopt\n",
      "Successfully installed GPy-1.9.9 gpyopt-1.2.6 paramz-0.9.5\n",
      "\n"
     ]
    }
   ],
   "source": [
    "pip install gpyopt"
   ]
  },
  {
   "cell_type": "code",
   "execution_count": 8,
   "metadata": {
    "kernel": "SoS"
   },
   "outputs": [
    {
     "name": "stdout",
     "output_type": "stream",
     "text": [
      "Number of interleaved breakpoints: 0.0\n",
      "Number of nested breakpoints: 0.0\n"
     ]
    }
   ],
   "source": [
    "# Rearrangement signatures. Clustered vs non-clustered rearrangements. We sought\n",
    "# to separate rearrangements that occurred as focal catastrophic events or focal driver\n",
    "# amplicons from genome-wide rearrangement mutagenesis using a piecewise constant fitting method. For each sample, both breakpoints of each rearrangement were\n",
    "# considered individually and all breakpoints were ordered by chromosomal position.\n",
    "# The inter-rearrangement distance, defined as the number of base pairs from one rearrangement breakpoint to the one immediately preceding it in the reference genome,\n",
    "# was calculated. Putative regions of clustered rearrangements were identified as having\n",
    "# an average inter-rearrangement distance that was at least 10 times greater than the\n",
    "# whole-genome average for the individual sample. Piecewise constant fitting parameters used were γ=25 and kmin=10, with γ as the parameter that controls smoothness\n",
    "# of segmentation, and kmin the minimum number of breakpoints in a segment.\n",
    "\n",
    "#input is list of bedpe files(one for each sample)\n",
    "\n",
    "# a rearrangement is in a cluster if any of its breakpoints are\n",
    "# mark both breakpoints of a rearrangement as clustered if any is\n",
    "\n",
    "#functions below expect rows to be organised by chromosomes and ordered by position on the chromosome\n",
    "\n",
    " #check whether column svclass is present,\n",
    "    #if not, compute it\n",
    "    # if (! \"svclass\" %in% colnames(sv_bedpe)){\n",
    "    #   if (\"strand1\" %in% colnames(sv_bedpe) & \"strand2\" %in% colnames(sv_bedpe)){\n",
    "    #     sv_bedpe <- classifyRearrangementsFromBedpe(sv_bedpe)\n",
    "    #   }else{\n",
    "    #     message(\"cannot classify rearrangements: svclass column missing, and cannot compute it because strand1 and strand2 are missing.\")\n",
    "    #   }\n",
    "    # }\n",
    "\n",
    "# chrom1    start1  end1    chrom2  start2  end2    sv_id   pe_support  strand1 strand2 svclass svmethod\n",
    "# X 31906363    31906364    X   33495419    33495420    SVMERGE1    50  +   -   DEL SNOWMAN_BRASS\n",
    "\n",
    " #' The column \"svclass\" should correspond to (Sanger BRASS convention): (strand1/strand2)\n",
    "#'\n",
    "#' inversion (+/-), if mates on the same chromosome\n",
    "#'\n",
    "#' inversion (-/+), if mates on the same chromosome\n",
    "#'\n",
    "#' deletion (+/+), if mates on the same chromosome\n",
    "#'\n",
    "#' tandem-duplication (-/-), if mates on the same chromosome\n",
    "#'\n",
    "#' translocation, if mates are on different chromosomes\n",
    "\n",
    "#BREAKPOINT DISTANCE\n",
    "#sample.rearrs$bkdist <- abs(sample.rearrs$start2 - sample.rearrs$start1)\n",
    "\n",
    "#rearrs.left <- sv_bedpe[,c('chrom1','start1','sample')]\n",
    "#rearrs.right <- sv_bedpe[,c('chrom2','start2','sample')]\n",
    "\n",
    "\n",
    " #run the algorithm\n",
    " # genome.size <- 3 * 10^9\n",
    " # MIN.BPS <- 10 # minimal number of breakpoints on a chromosome to do any any segmentation\n",
    "\n",
    " #if (sum(sample.bps.flag )>MIN.BPS ) { # if there are enough breakpoints on a chromosome to run pcf\n",
    "\n",
    "#res = exactPcf(data.points, kmin, gamma, T)\n",
    "\n",
    "#if (!logScale) { # even if pcf was run on non-logged distances, I log the output\n",
    "\n",
    "# DOCUMENTATION: https://jekel.me/piecewise_linear_fit_py/examples.html#fit-for-specified-number-of-line-segments\n",
    "\n",
    "# The fitting of continuous piecewise linear functions has thus far assumed that\n",
    "# the breakpoint locations are known. In cases when the breakpoint locations are\n",
    "# unknown, optimization can be used to find the best set of breakpoint locations.\n",
    "# This formulation requires the user to specify the desired number of line segments.\n",
    "# Remember there are nb − 1 number of line segments.\n",
    "\n",
    "#EXAMPLE WITH SV CLASS PRESENT\n",
    "# chrom1    start1  end1    chrom2  start2  end2    sv_id   pe_support  strand1 strand2 svclass svmethod\n",
    "# 19    21268384    21268385    19  21327858    21327859    SVMERGE6    9   +   -   DEL SNOWMAN_DELLY\n",
    "\n",
    "#EXAMPLE WITHOUT SV CLASS PRESENT\n",
    "# chrom1  start1  end1    chrom2  start2  end2    sample  strand1 strand2\n",
    "# 1       84379707        84379707        1       84862686        84862686        PD9847a -       -\n",
    "\n",
    "def isClustered(sample, chrom, start1, start2, i, k, method=\"sampleIMD\"):\n",
    "    #all the relevant information is stored in sampleToSegments...(sample, chr, start): (segmentAvgDensity, segmentAvgIMD)\n",
    "    if (sample, chrom, start1) not in sampleToSegments and (sample, chrom, start2) not in sampleToSegments:\n",
    "        return False\n",
    "    elif (sample, chrom, start1) in sampleToSegments or (sample, chrom, start2) in sampleToSegments:\n",
    "        if method == 'tumorIMD' and segmentAvgIMD > i*tumorAvgDensity:\n",
    "            return True\n",
    "        elif method == 'tumorDensity' and tumorAvgDensity > i*tumorAvgIMD:\n",
    "            return True\n",
    "        elif method == 'sampleIMD' and segmentAvgIMD > i*sampleAvgIMD[sample][0]:\n",
    "            return True\n",
    "        elif method == 'sampleDensity' and segmentAvgDensity > i*sampleAvgIMD[sample][1]:\n",
    "            return True\n",
    "    else:\n",
    "        #print (sample, chrom, start1, start2)\n",
    "        print (\" \")\n",
    "\n",
    "num_events = []\n",
    "tumorAvgIMD = 0\n",
    "tumorAvgDensity = 0\n",
    "sampleAvg = {} #maps each sample to the average IMD in that sample, average density in that sample\n",
    "\n",
    "totalIMD = 0\n",
    "totalIMDCount = 0\n",
    "totalDensity = 0\n",
    "totalDensityCount = 0\n",
    "\n",
    "samples = []\n",
    "index = []\n",
    "\n",
    "\n",
    "#os.chdir(\"/Users/khandekara2/iCloud/dev/SVMatrixGenerator/data/560_Breast\")\n",
    "#os.chdir(\"/Users/khandekara2/iCloud/dev/SVMatrixGenerator/data/PCAWG/raw_data\")\n",
    "sampleToSegments = {} #dictionary that maps (sample, chr, start) to its segmentAvgDensity and segmentAvgIMD\n",
    "\n",
    "\n",
    "#sample_files = ['PD13296a.560_breast.rearrangements.n560.bedpe.tsv']\n",
    "# for file in os.listdir('.'): \n",
    "#     if file.endswith(\".n560.bedpe.tsv\") and file != \"PD13296a.560_breast.rearrangements.n560.bedpe.tsv\":\n",
    "#         sample_files.append(file)\n",
    "\n",
    "sample_files = []\n",
    "for file in os.listdir('.'): \n",
    "    if file.endswith(\".somatic.sv.bedpe\") and file != \"PD13296a.560_breast.rearrangements.n560.bedpe.tsv\":\n",
    "        sample_files.append(file)\n",
    "\n",
    "#sample_files = [\"/Users/khandekara2/iCloud/dev/SVMatrixGenerator/data/PCAWG/PCAWG_SV.bedpe.tsv\"]\n",
    "#sample_files = [\"/Users/khandekara2/iCloud/dev/SVMatrixGenerator/data/560_Breast/560.Breast.bedpe.tsv\"]\n",
    "sample_files = [\"~/iCloud/dev/SVMatrixGenerator/data/560_Breast/PD8660a2.560_breast.rearrangements.n560.bedpe.tsv\"]\n",
    "\n",
    "#PCF PARAMETERS\n",
    "#GAMMA is not a penalty like in the R implementation; it is literally the number of segments\n",
    "\n",
    "min_breakpoints = 10 # minimal number of breakpoints on a chromosome to do any segmentation\n",
    "genome_size = 3 * 10^9\n",
    "\n",
    "ranges = {} #key is chromosome, value is coordinate range\n",
    "with open(\"data/chr_sizes.txt\") as f:\n",
    "    for line in f:\n",
    "        line = line.strip()\n",
    "        (key, val) = line.split('\\t')\n",
    "        ranges[str(key)] = val\n",
    "\n",
    "for file in sample_files:\n",
    "    #print (file)\n",
    "    df = pd.read_csv(file, sep=\"\\t\") #bedpe file format: chrom1, start1, end1, chrom2, start2, end2, strand1, strand2, svclass(optional), sample\n",
    "    if \"strand1\" in df.columns and \"strand2\" in df.columns:\n",
    "        df = df[[\"chrom1\", \"start1\", \"end1\", \"chrom2\", \"start2\", \"end2\", \"strand1\", \"strand2\", \"sample\"]]\n",
    "    df = df.astype({df.columns[1]: 'int32', df.columns[2]: 'int32', df.columns[5]: 'int32', df.columns[4]: 'int32', df.columns[0]: 'str', df.columns[3]: 'str'})\n",
    "    sample = file.split('.')[0]\n",
    "    #print(df.columns)\n",
    "    lengths = []\n",
    "    if \"svclass\" not in df.columns:\n",
    "        if \"strand1\" not in df.columns or \"strand2\" not in df.columns:\n",
    "            raise Exception(\"cannot classify rearrangements: svclass column missing, and cannot compute it because strand1 and strand2 are missing.\")\n",
    "        else:\n",
    "            svclass = []\n",
    "            for i, row in df.iterrows():\n",
    "                if row['chrom1'] != row['chrom2']:\n",
    "                    sv = \"trans\"\n",
    "                    svclass.append(\"trans\")\n",
    "                elif row[\"strand1\"] == '+' and row[\"strand2\"] == '-' or row[\"strand1\"] == '-' and row[\"strand2\"] == '+':\n",
    "                    sv = \"inv\"\n",
    "                    svclass.append(\"inv\")\n",
    "                elif row[\"strand1\"] == '+' and row[\"strand2\"] == '+':\n",
    "                    sv = \"del\"\n",
    "                    svclass.append(\"del\")\n",
    "                elif row[\"strand1\"] == '-' and row[\"strand2\"] == '-':\n",
    "                    sv = \"tds\"\n",
    "                    svclass.append(\"tds\")\n",
    "                else:\n",
    "                    raise Exception(\"cannot classify rearrangements: svclass column missing, and cannot compute it because strand1 and strand2 are not in the proper format.\")\n",
    "             \n",
    "    df[\"svclass\"] = svclass\n",
    "    \n",
    "    #GET SIZE\n",
    "    sizes = [0 for x in svclass]\n",
    "    for i, (t, s) in enumerate(zip(svclass, sizes)):\n",
    "        if sv != \"trans\":\n",
    "            lengths.append(abs(row['start1'] - row['start2']))\n",
    "            l = abs(row['start1'] - row['start2']) / 1000000 #megabases\n",
    "            if l > 0.01 and l <= 0.1:\n",
    "                size = \"10-100kb\"\n",
    "                sizes[i] = size\n",
    "            elif l > 0.1 and l <= 1:\n",
    "                size = \"100kb-1Mb\"\n",
    "                sizes[i] = size\n",
    "            elif l > 1 and l <= 10:\n",
    "                size = \"1Mb-10Mb\"\n",
    "                sizes[i] = size\n",
    "            elif l > 0.001 and l <= 0.010:\n",
    "                size = \"1-10Kb\"\n",
    "                sizes[i] = size\n",
    "            else:\n",
    "                size = \">10Mb\"\n",
    "                sizes[i] = size\n",
    "        else:\n",
    "            sizes[i] = \"0\"\n",
    "            lengths.append(0)\n",
    "            \n",
    "    df[\"size_bin\"] = sizes\n",
    "    df[\"length\"] = lengths\n",
    "    \n",
    "    #average IMD\n",
    "    totalSampleIMD = 0\n",
    "    sampleIMDCount = 0\n",
    "    \n",
    "    #average density\n",
    "    totalSampleDensity = 0\n",
    "    totalDensityCount = 0\n",
    "    \n",
    "    num_events.append(df.shape[0] - 1) #number of rearrangements\n",
    "    chrom_dfs = []\n",
    "    \n",
    "    all_chroms = set(list(df.chrom1.unique()) + list(df.chrom2.unique()))\n",
    "    #print (all_chroms)\n",
    "    interleaved = 0\n",
    "    nested = 0 # \n",
    "    for i, chromosome in enumerate(all_chroms): #apply PCF on a chromosome by chromosome basis\n",
    "        \n",
    "        #We consider that two SVs are interleaved if the genomic regions bridged by their breakpoints overlap but are not\n",
    "        #nested. \n",
    "        df = df.filter(items=['chrom1', 'start1', 'end1', 'chrom2', 'start2', 'end2', 'sample', 'svclass', 'size_bin', 'length'])\n",
    "        chrom_df = df[(df.chrom1 == chromosome) | (df.chrom2 == chromosome)]\n",
    "        #print(chrom_df.shape[0])\n",
    "\n",
    "        #keep track of partners\n",
    "        d1 = dict(zip(list(chrom_df['start1']), list(chrom_df['start2'])))\n",
    "        d2 = dict(zip(list(chrom_df['start2']), list(chrom_df['start1'])))\n",
    "        d = {**d1, **d2} #combine dictionaries\n",
    "\n",
    "        lb = chrom_df.iloc[:, 0:2] #get chrom1 and start1\n",
    "        rb = chrom_df.iloc[:, 3:5] #get chrom2 and start2\n",
    "        rest = chrom_df.iloc[:, 6:]\n",
    "        \n",
    "        lb = pd.DataFrame(np.concatenate((lb.values, rest.values), axis=1))\n",
    "        rb = pd.DataFrame(np.concatenate((rb.values, rest.values), axis=1))\n",
    "        \n",
    "        #BREAKPOINTS ARE CONSIDERED INDIVIDUALLY\n",
    "        lb.columns = ['chrom1', 'start1', 'sample', 'svclass', 'size_bin', \"length\"]\n",
    "        rb.columns = ['chrom2', 'start2', 'sample', 'svclass', 'size_bin', \"length\"]\n",
    "        \n",
    "        #if either the right or left breakpoint is on this particular chromosome\n",
    "        chrom = 1\n",
    "        chr_lb = lb[lb.chrom1 == chromosome]\n",
    "        chr_rb = rb[rb.chrom2 == chromosome]\n",
    "        chrom_df = pd.DataFrame(np.concatenate((chr_lb.values, chr_rb.values), axis=0))\n",
    "        chrom_df.columns = ['chrom', 'start', 'sample', 'svclass', 'size_bin', \"length\"]\n",
    "        assert(chrom_df['chrom'].nunique() == 1)\n",
    "\n",
    "        #sort on last column which is start coordinate\n",
    "        chrom_df = chrom_df.sort_values(chrom_df.columns[1]) #CHROM, START\n",
    "        \n",
    "        coords = list(chrom_df[chrom_df.columns[1]])\n",
    "        coords = sorted(coords)\n",
    "        #print (coords)\n",
    "        \n",
    "        \n",
    "        #SIMULATION\n",
    "        sim_df = chrom_df.copy()\n",
    "        sim_df.head()\n",
    "        end = ranges[chromosome]\n",
    "        for i, row in enumerate(sim_df.index):\n",
    "            sim_df.iat[i, 1] = random.randint(end)\n",
    "        \n",
    "        chrom_inter_distances = []\n",
    "        #calculate inter-rearrangement distance\n",
    "        #defined as the number of base pairs from one rearrangement breakpoint to the one immediately preceding(that is not its partner breakpoint) it in the reference genome\n",
    "        for i in range(1, len(coords)):\n",
    "            j = i-1\n",
    "            while coords[j] == d[coords[i]] and not (d[coords[i]] < max(d[coords[j]], coords[j]) and coords[i] < max(d[coords[j]], coords[j]) and d[coords[i]] > min(d[coords[j]], coords[j]) and coords[i] > min(d[coords[j]], coords[j])): #check if previous breakpoint is partner of this breakpoint, if it is, avoid it\n",
    "                j=j-1\n",
    "            if j >= 0:\n",
    "                #determine if we have a nested or interleaved configuration\n",
    "#                 if d[coords[i]] < max(d[coords[j]], coords[j]) and coords[i] < max(d[coords[j]], coords[j]) and d[coords[i]] > min(d[coords[j]], coords[j]) and coords[i] > min(d[coords[j]], coords[j]):\n",
    "#                     nested += 1\n",
    "                    #print(\"Inner breakpoints: \" + str(min(coords[i], d[coords[i]])) + \" \" + str(max(coords[i], d[coords[i]]))) \n",
    "#                 else:\n",
    "#                     interleaved +=1\n",
    "                    #print(coords[i], coords[j])\n",
    "                dist = coords[i] - coords[j]\n",
    "            else:\n",
    "                dist = 0\n",
    "            assert(dist >= 0)\n",
    "\n",
    "            chrom_inter_distances.append(dist)\n",
    "\n",
    "        chrom_inter_distances = [0] + chrom_inter_distances #first IMD is 0 because there is no breakpoint preceding it\n",
    "        #log inter-distances\n",
    "        for i in range(len(chrom_inter_distances)):\n",
    "            if chrom_inter_distances[i] != 0:\n",
    "                chrom_inter_distances[i] = math.log(chrom_inter_distances[i], 10)\n",
    "        chrom_df['IMD'] = chrom_inter_distances\n",
    "        \n",
    "#         if len(chrom_inter_distances) >= min_breakpoints:\n",
    "#             #initialize piecwise linear fit with your x and y data\n",
    "#             xs = list(chrom_df[chrom_df.columns[1]]) #genomic coordinates\n",
    "#         #   print (len(xs))\n",
    "#         #   print (len(chrom_inter_distances))\n",
    "#             assert(len(xs) == len(chrom_inter_distances))\n",
    "#             PWLF = pwlf.PiecewiseLinFit(xs, chrom_inter_distances)\n",
    "#             res = PWLF.fit(gamma)\n",
    "\n",
    "#             #my_pwfl.fit_breaks is the x values of the break point locations.\n",
    "#             breakpoints = [int(x) for x in res]\n",
    "#             segments = []\n",
    "#             for i, b in enumerate(breakpoints):\n",
    "#                 if i == 0:\n",
    "#                     segments.append((0, breakpoints[1]))\n",
    "#                 else:\n",
    "#                     segments.append((breakpoints[i-1], b))\n",
    "            \n",
    "#             for seg in segments: #now that segments(breakpoint locations) are determined, subset table by those segments and evaluate metrics \n",
    "# #                 s = chrom_df[chrom_df[chrom_df.columns[1]]==seg[0]].index.values.astype(int)[0] #get the index of the start of segment\n",
    "# #                 e = chrom_df[chrom_df[chrom_df.columns[1]]==seg[1]].index.values.astype(int)[0] #get the index of the end of segment\n",
    "# #                 segment_df = chrom_df.loc[s:e]\n",
    "#                 segment_df = chrom_df[(chrom_df['start'] >= seg[0]) & (chrom_df['start'] <= seg[1])]\n",
    "#                 break\n",
    "#         else: #this chromosome does not have enough breakpoints on it\n",
    "#             continue\n",
    "#                 #print (segments)\n",
    "            \n",
    "        #chrom_df.to_csv(\"/Users/azhark/Documents/Alexandrov_Lab/data/SV/data/560_Breast/IMD/\" + sample + \"_\" + chromosome + \".IMD.tsv\", sep=\"\\t\", index=False)\n",
    "#         all_dfs.append(chrom_df)\n",
    "        \n",
    "# master_df = pd.concat(all_dfs)            \n",
    "# master_df.to_csv(\"/Users/khandekara2/iCloud/dev/SVMatrixGenerator/results/ALL.560_breast.rearrangements.IMD.tsv\", sep=\"\\t\", index=False)\n",
    "print (\"Number of interleaved breakpoints: \" + str(interleaved / 2))\n",
    "print (\"Number of nested breakpoints: \" + str(nested / 2))\n",
    "\n",
    "#         totalSampleIMD += np.array(chrom_inter_distances).sum()\n",
    "#         sampleIMDCount += len(chrom_inter_distances)\n",
    "\n",
    "#         totalIMD += np.array(chrom_inter_distances).sum()\n",
    "#         totalIMDCount += len(chrom_inter_distances)\n",
    "        \n",
    "#         if len(chrom_inter_distances) >= 25:\n",
    "#             over25 += 1\n",
    "#         else:\n",
    "#             sub25 += 1"
   ]
  },
  {
   "cell_type": "code",
   "execution_count": 10,
   "metadata": {},
   "outputs": [
    {
     "data": {
      "text/html": [
       "<div>\n",
       "<style scoped>\n",
       "    .dataframe tbody tr th:only-of-type {\n",
       "        vertical-align: middle;\n",
       "    }\n",
       "\n",
       "    .dataframe tbody tr th {\n",
       "        vertical-align: top;\n",
       "    }\n",
       "\n",
       "    .dataframe thead th {\n",
       "        text-align: right;\n",
       "    }\n",
       "</style>\n",
       "<table border=\"1\" class=\"dataframe\">\n",
       "  <thead>\n",
       "    <tr style=\"text-align: right;\">\n",
       "      <th></th>\n",
       "      <th>chrom</th>\n",
       "      <th>start</th>\n",
       "      <th>sample</th>\n",
       "      <th>svclass</th>\n",
       "      <th>size_bin</th>\n",
       "      <th>length</th>\n",
       "      <th>IMD</th>\n",
       "    </tr>\n",
       "  </thead>\n",
       "  <tbody>\n",
       "    <tr>\n",
       "      <th>0</th>\n",
       "      <td>20</td>\n",
       "      <td>7676548</td>\n",
       "      <td>PD8660a2</td>\n",
       "      <td>tds</td>\n",
       "      <td>10-100kb</td>\n",
       "      <td>69130</td>\n",
       "      <td>0.000000</td>\n",
       "    </tr>\n",
       "    <tr>\n",
       "      <th>16</th>\n",
       "      <td>20</td>\n",
       "      <td>7875414</td>\n",
       "      <td>PD8660a2</td>\n",
       "      <td>tds</td>\n",
       "      <td>10-100kb</td>\n",
       "      <td>69130</td>\n",
       "      <td>0.000000</td>\n",
       "    </tr>\n",
       "    <tr>\n",
       "      <th>1</th>\n",
       "      <td>20</td>\n",
       "      <td>8264709</td>\n",
       "      <td>PD8660a2</td>\n",
       "      <td>del</td>\n",
       "      <td>10-100kb</td>\n",
       "      <td>69130</td>\n",
       "      <td>5.590279</td>\n",
       "    </tr>\n",
       "    <tr>\n",
       "      <th>17</th>\n",
       "      <td>20</td>\n",
       "      <td>8338734</td>\n",
       "      <td>PD8660a2</td>\n",
       "      <td>del</td>\n",
       "      <td>10-100kb</td>\n",
       "      <td>69130</td>\n",
       "      <td>5.665881</td>\n",
       "    </tr>\n",
       "    <tr>\n",
       "      <th>2</th>\n",
       "      <td>20</td>\n",
       "      <td>8686243</td>\n",
       "      <td>PD8660a2</td>\n",
       "      <td>tds</td>\n",
       "      <td>10-100kb</td>\n",
       "      <td>69130</td>\n",
       "      <td>5.540966</td>\n",
       "    </tr>\n",
       "  </tbody>\n",
       "</table>\n",
       "</div>"
      ],
      "text/plain": [
       "   chrom    start    sample svclass  size_bin length       IMD\n",
       "0     20  7676548  PD8660a2     tds  10-100kb  69130  0.000000\n",
       "16    20  7875414  PD8660a2     tds  10-100kb  69130  0.000000\n",
       "1     20  8264709  PD8660a2     del  10-100kb  69130  5.590279\n",
       "17    20  8338734  PD8660a2     del  10-100kb  69130  5.665881\n",
       "2     20  8686243  PD8660a2     tds  10-100kb  69130  5.540966"
      ]
     },
     "execution_count": 10,
     "metadata": {},
     "output_type": "execute_result"
    }
   ],
   "source": [
    "chrom_df.head()"
   ]
  },
  {
   "cell_type": "code",
   "execution_count": 31,
   "metadata": {
    "kernel": "SoS"
   },
   "outputs": [
    {
     "data": {
      "text/html": [
       "<div>\n",
       "<style scoped>\n",
       "    .dataframe tbody tr th:only-of-type {\n",
       "        vertical-align: middle;\n",
       "    }\n",
       "\n",
       "    .dataframe tbody tr th {\n",
       "        vertical-align: top;\n",
       "    }\n",
       "\n",
       "    .dataframe thead th {\n",
       "        text-align: right;\n",
       "    }\n",
       "</style>\n",
       "<table border=\"1\" class=\"dataframe\">\n",
       "  <thead>\n",
       "    <tr style=\"text-align: right;\">\n",
       "      <th></th>\n",
       "      <th>chrom</th>\n",
       "      <th>start</th>\n",
       "      <th>sample</th>\n",
       "      <th>svclass</th>\n",
       "      <th>size_bin</th>\n",
       "      <th>IMD</th>\n",
       "    </tr>\n",
       "  </thead>\n",
       "  <tbody>\n",
       "    <tr>\n",
       "      <th>2</th>\n",
       "      <td>17</td>\n",
       "      <td>27006163</td>\n",
       "      <td>PD8660a2</td>\n",
       "      <td>tds</td>\n",
       "      <td>10-100kb</td>\n",
       "      <td>7.418089</td>\n",
       "    </tr>\n",
       "    <tr>\n",
       "      <th>9</th>\n",
       "      <td>17</td>\n",
       "      <td>27126019</td>\n",
       "      <td>PD8660a2</td>\n",
       "      <td>trans</td>\n",
       "      <td>10-100kb</td>\n",
       "      <td>5.078660</td>\n",
       "    </tr>\n",
       "  </tbody>\n",
       "</table>\n",
       "</div>"
      ],
      "text/plain": [
       "  chrom     start    sample svclass  size_bin       IMD\n",
       "2    17  27006163  PD8660a2     tds  10-100kb  7.418089\n",
       "9    17  27126019  PD8660a2   trans  10-100kb  5.078660"
      ]
     },
     "execution_count": 31,
     "metadata": {},
     "output_type": "execute_result"
    }
   ],
   "source": [
    "for seg in segments[7:]: #now that segments(breakpoint locations) are determined, subset table by those segments and evaluate metrics \n",
    "    segment_df = chrom_df[(chrom_df['start'] >= seg[0]) & (chrom_df['start'] <= seg[1])]\n",
    "    break\n",
    "segment_df"
   ]
  },
  {
   "cell_type": "code",
   "execution_count": 29,
   "metadata": {
    "kernel": "SoS"
   },
   "outputs": [
    {
     "data": {
      "text/plain": [
       "[(0, 676906),\n",
       " (676906, 809032),\n",
       " (809032, 7358447),\n",
       " (7358447, 9231562),\n",
       " (9231562, 9639385),\n",
       " (9639385, 23806288),\n",
       " (23806288, 25278184),\n",
       " (25278184, 27407056),\n",
       " (27407056, 27574337),\n",
       " (27574337, 27929625),\n",
       " (27929625, 28465426),\n",
       " (28465426, 28779796),\n",
       " (28779796, 34058829),\n",
       " (34058829, 34572356),\n",
       " (34572356, 36255229),\n",
       " (36255229, 36574666),\n",
       " (36574666, 45787971),\n",
       " (45787971, 68095964),\n",
       " (68095964, 69472240),\n",
       " (69472240, 71474961),\n",
       " (71474961, 71501669),\n",
       " (71501669, 71830388),\n",
       " (71830388, 76061714),\n",
       " (76061714, 78216710),\n",
       " (78216710, 79271976),\n",
       " (79271976, 80258378)]"
      ]
     },
     "execution_count": 29,
     "metadata": {},
     "output_type": "execute_result"
    }
   ],
   "source": [
    "segments"
   ]
  },
  {
   "cell_type": "code",
   "execution_count": 27,
   "metadata": {
    "kernel": "Python3"
   },
   "outputs": [],
   "source": [
    "import csv\n",
    "with open(\"/Users/khandekara2/iCloud/dev/SVMatrixGenerator/data/560.Breast.bedpe.tsv\", \"w\") as csvout:\n",
    "    writer = csv.writer(csvout, delimiter=\"\\t\")\n",
    "    for file in os.listdir(\"/Users/khandekara2/iCloud/dev/SVMatrixGenerator/data/560_Breast/\"):\n",
    "        if file.endswith(\".n560.bedpe.tsv\"):\n",
    "            with open(\"/Users/khandekara2/iCloud/dev/SVMatrixGenerator/data/560_Breast/\" + file, \"r\") as f:\n",
    "                next(f)\n",
    "                for line in f:\n",
    "                    line=line.strip().split(\"\\t\")\n",
    "                    writer.writerow(line)\n",
    "            "
   ]
  },
  {
   "cell_type": "code",
   "execution_count": null,
   "metadata": {
    "kernel": "Python 3"
   },
   "outputs": [],
   "source": [
    "#INPUT: DATAFRAME WITH CHROMOSOMAL COORDINATE AND LOG IMD\n",
    "\n",
    "#APPLY PCF\n",
    "\n",
    "min_breakpoints = 10 # minimal number of breakpoints on a chromosome to do any any segmentation\n",
    "genome_size = 3 * 10^9\n",
    "\n",
    "if len(chrom_inter_distances) >= min_breakpoints:\n",
    "    x = list(df.start)\n",
    "    y = list(df.IMD)\n",
    "    y = [10 ** d for d in y]\n",
    "    model = piecewise(x, y)\n",
    "        \n",
    "\n",
    "        \n",
    "        \n",
    "#make sample by feature matrix for nmf with rows as features and samples as columns\n",
    "# features = []\n",
    "# with open('rearrangement_features.txt') as f:\n",
    "#     for line in f:\n",
    "#         features.append(line.strip())\n",
    "# assert(len(features) == 32)\n",
    "# matrix = pd.DataFrame(index=features, columns=samples)\n",
    "\n",
    "# clustered = []\n",
    "# i = 10\n",
    "# k = 10\n",
    "# final_df = pd.concat(all_dfs)\n",
    "\n",
    "# for file in sample_files:\n",
    "#     df = pd.read_csv(sample, sep=\"\\t\") #bedpe file format: chrom1, start1, end1, chrom2, start2, end2, strand1, strand2, svclass(optional), sample\n",
    "#     df = df.astype({df.columns[1]: 'int32', df.columns[2]: 'int32', df.columns[5]: 'int32', df.columns[4]: 'int32', df.columns[0]: 'str', df.columns[0]: 'str'})\n",
    "#     sample = file.split('.')[0]\n",
    "#     for chr1, start1, chr2, start2, sample in zip(df['chrom1'], df['start1'], df['chrom2'], df['start2'], df['sample']):\n",
    "#         flag = False\n",
    "#         if (sample,  chr1, start1) in sampleToSegments:\n",
    "#             if isClustered(sample, chrom, start1, start2, i, k, method=\"sampleIMD\"):\n",
    "#                 flag = True\n",
    "#                 clustered.append(\"clustered\")\n",
    "#         if (sample,  chr2, start2) in sampleToSegments:\n",
    "#             if isClustered(sample, chrom, start1, start2, i, k, method=\"sampleIMD\"):\n",
    "#                 flag = True\n",
    "#                 clustered.append(\"clustered\")\n",
    "#         if not flag:\n",
    "#             clustered.append(\"non-clustered\")\n",
    "\n",
    "# for s,c1,c2,c3 in zip(df[\"sample\"], df[\"clustered\"], df['svclass'], df[\"size_bin\"]):\n",
    "#     row = c1 + \"_\" + c2 + \"_\" + c3\n",
    "#     column = s\n",
    "#     matrix.at[row, column] += 1 "
   ]
  },
  {
   "cell_type": "code",
   "execution_count": 5,
   "metadata": {
    "kernel": "Python 3"
   },
   "outputs": [
    {
     "name": "stdout",
     "output_type": "stream",
     "text": [
      "5969\n",
      "1879\n"
     ]
    }
   ],
   "source": [
    "print (sub25)\n",
    "print (over25)"
   ]
  },
  {
   "cell_type": "code",
   "execution_count": 26,
   "metadata": {
    "kernel": "Python 3"
   },
   "outputs": [
    {
     "data": {
      "text/html": [
       "<div>\n",
       "<style scoped>\n",
       "    .dataframe tbody tr th:only-of-type {\n",
       "        vertical-align: middle;\n",
       "    }\n",
       "\n",
       "    .dataframe tbody tr th {\n",
       "        vertical-align: top;\n",
       "    }\n",
       "\n",
       "    .dataframe thead th {\n",
       "        text-align: right;\n",
       "    }\n",
       "</style>\n",
       "<table border=\"1\" class=\"dataframe\">\n",
       "  <thead>\n",
       "    <tr style=\"text-align: right;\">\n",
       "      <th></th>\n",
       "      <th>0</th>\n",
       "      <th>1</th>\n",
       "      <th>2</th>\n",
       "      <th>3</th>\n",
       "      <th>4</th>\n",
       "    </tr>\n",
       "  </thead>\n",
       "  <tbody>\n",
       "    <tr>\n",
       "      <th>0</th>\n",
       "      <td>1</td>\n",
       "      <td>35276289</td>\n",
       "      <td>PD13296a</td>\n",
       "      <td>trans</td>\n",
       "      <td>0</td>\n",
       "    </tr>\n",
       "    <tr>\n",
       "      <th>1</th>\n",
       "      <td>1</td>\n",
       "      <td>35276510</td>\n",
       "      <td>PD13296a</td>\n",
       "      <td>trans</td>\n",
       "      <td>0</td>\n",
       "    </tr>\n",
       "    <tr>\n",
       "      <th>2</th>\n",
       "      <td>1</td>\n",
       "      <td>37201274</td>\n",
       "      <td>PD13296a</td>\n",
       "      <td>trans</td>\n",
       "      <td>0</td>\n",
       "    </tr>\n",
       "    <tr>\n",
       "      <th>3</th>\n",
       "      <td>1</td>\n",
       "      <td>42120456</td>\n",
       "      <td>PD13296a</td>\n",
       "      <td>trans</td>\n",
       "      <td>0</td>\n",
       "    </tr>\n",
       "    <tr>\n",
       "      <th>4</th>\n",
       "      <td>1</td>\n",
       "      <td>42123907</td>\n",
       "      <td>PD13296a</td>\n",
       "      <td>trans</td>\n",
       "      <td>0</td>\n",
       "    </tr>\n",
       "  </tbody>\n",
       "</table>\n",
       "</div>"
      ],
      "text/plain": [
       "   0         1         2      3  4\n",
       "0  1  35276289  PD13296a  trans  0\n",
       "1  1  35276510  PD13296a  trans  0\n",
       "2  1  37201274  PD13296a  trans  0\n",
       "3  1  42120456  PD13296a  trans  0\n",
       "4  1  42123907  PD13296a  trans  0"
      ]
     },
     "execution_count": 26,
     "metadata": {},
     "output_type": "execute_result"
    }
   ],
   "source": [
    "lb.head()"
   ]
  },
  {
   "cell_type": "code",
   "execution_count": 5,
   "metadata": {
    "kernel": "Python 3"
   },
   "outputs": [
    {
     "data": {
      "text/plain": [
       "array(['>10Mb', '1Mb-10Mb', '1-10Kb', '100kb-1Mb', '10-100kb'],\n",
       "      dtype=object)"
      ]
     },
     "execution_count": 5,
     "metadata": {},
     "output_type": "execute_result"
    }
   ],
   "source": [
    "imd.size_bin.unique()"
   ]
  },
  {
   "cell_type": "code",
   "execution_count": 6,
   "metadata": {
    "kernel": "Python 3"
   },
   "outputs": [
    {
     "name": "stdout",
     "output_type": "stream",
     "text": [
      "1\n"
     ]
    },
    {
     "data": {
      "image/png": "[encoded data removed]",
      "text/plain": [
       "<Figure size 1440x432 with 2 Axes>"
      ]
     },
     "metadata": {
      "needs_background": "light"
     },
     "output_type": "display_data"
    }
   ],
   "source": [
    "import seaborn as sns\n",
    "import pandas as pd\n",
    "import numpy as np\n",
    "import pwlf\n",
    "import math\n",
    "import os\n",
    "import matplotlib.pyplot as plt\n",
    "from matplotlib.backends.backend_pdf import PdfPages\n",
    "%matplotlib inline\n",
    "#         chrom   start   sample  svclass size_bin        IMD\n",
    "# 7       7365075 NSLC-0057-T01   inversion       1-10Kb  0.0\n",
    "# 7       7369129 NSLC-0057-T01   inversion       1-10Kb  0.0\n",
    "\n",
    "input_dir = \"/Users/azhark/iCloud/Sherlock-Lung/segments/\"\n",
    "os.chdir(input_dir)\n",
    "\n",
    "project = 'Sherlock-Lung'\n",
    "output_path = \"/Users/azhark/iCloud/Alexandrov_Lab/results/\"\n",
    "#pp = PdfPages(output_path + project + 'IMD_plots' + '.pdf')\n",
    "pp = PdfPages(project + '_IMD_plots' + '.pdf')\n",
    "\n",
    "sizes  = {'>10Mb':50, '1Mb-10Mb':40, '1-10Kb':10, '100kb-1Mb':30, '10-100kb':20}\n",
    "size_order = ['1-10Kb', '10-100kb', '100kb-1Mb', '1Mb-10Mb', '>10Mb']\n",
    "count = 0\n",
    "for file in os.listdir('.'):\n",
    "    if file.endswith(\".IMD.tsv\"):\n",
    "        sample = file.split(\".\")[0].split(\"_\")[0]\n",
    "        c = file.split(\".\")[0].split(\"_\")[-1]\n",
    "        imd = pd.read_csv(file, sep=\"\\t\")\n",
    "        sim_imd = pd.read_csv(file + '.simulated', sep=\"\\t\")\n",
    "        if imd.shape[0] > 0:\n",
    "            fig, axes = plt.subplots(1, 2, figsize=(20, 6))\n",
    "            a = sns.scatterplot(\"start\", \"IMD\", data=imd, hue=\"svclass\", size=\"size_bin\", sizes=sizes, size_order=size_order, legend=\"full\", ax=axes[0]).set_title(sample + \": \" + \"chr\" + str(c))\n",
    "            b = sns.scatterplot(\"start\", \"IMD\", data=sim_imd, hue=\"svclass\", size=\"size_bin\", sizes=sizes, size_order=size_order, legend=\"full\", ax=axes[1]).set_title(sample + \": \" + \"chr\" + str(c) + ' (Simulated)')\n",
    "            pp.savefig(fig, dpi=150, bbox_inches='tight')\n",
    "            count+=1\n",
    "            \n",
    "pp.close()        \n",
    "print (count)\n"
   ]
  },
  {
   "cell_type": "code",
   "execution_count": null,
   "metadata": {
    "kernel": "Python 3"
   },
   "outputs": [],
   "source": [
    "input_dir = \"/Users/azhark/iCloud/Sherlock-Lung/segments/\"\n",
    "os.chdir(input_dir)\n",
    "\n",
    "project = '560-Breast'\n",
    "output_path = \"/Users/azhark/iCloud/Alexandrov_Lab/results/\"\n",
    "#pp = PdfPages(output_path + project + 'IMD_plots' + '.pdf')\n",
    "pp = PdfPages(project + '_IMD_plots' + '.pdf')\n",
    "\n",
    "count = 0\n",
    "for file in os.listdir('.'):\n",
    "    if file.endswith(\".IMD.tsv\"):\n",
    "        sample = file.split()\n",
    "        imd = pd.read_csv(file, sep=\"\\t\")\n",
    "        sim_imd = pd.read_csv(file + '.simulated', sep=\"\\t\")\n",
    "        if imd.shape[0] > 100:\n",
    "            fig, axes = plt.subplots(1, 2, figsize=(20, 6))\n",
    "            a = sns.scatterplot(\"start\", \"IMD\", data=imd, hue=\"svclass\", size=\"size_bin\", legend=\"full\", ax=axes[0])\n",
    "            b = sns.scatterplot(\"start\", \"IMD\", data=sim_imd, hue=\"svclass\", size=\"size_bin\", legend=\"full\", ax=axes[1])\n",
    "            pp.savefig(fig, dpi=150, bbox_inches='tight')\n",
    "            count+=1\n",
    "pp.close()        \n",
    "print (count)"
   ]
  },
  {
   "cell_type": "code",
   "execution_count": 52,
   "metadata": {
    "kernel": "Python 3"
   },
   "outputs": [
    {
     "data": {
      "text/plain": [
       "FittedModel with segments:\n",
       "* FittedSegment(start_t=3550334.0, end_t=210003567.0, coeffs=(2087295.0637706043, -8.765387472480308e-05))\n",
       "* FittedSegment(start_t=210003567.0, end_t=243915894.0, coeffs=(-65822845.79525988, 0.3109086482892849))\n",
       "* FittedSegment(start_t=243915894.0, end_t=246410654.0, coeffs=(-243789221.82240236, 0.9994793709920657))"
      ]
     },
     "execution_count": 52,
     "metadata": {},
     "output_type": "execute_result"
    }
   ],
   "source": [
    "from piecewise import piecewise\n",
    "import pandas as pd\n",
    "df = pd.read_csv(\"/Users/azhark/Documents/Alexandrov_Lab/data/SV/data/Mutographs_ESCC_Train9/segments/PD41705a_1.IMD.tsv\", sep=\"\\t\")\n",
    "x = list(df.start)\n",
    "y = list(df.IMD)\n",
    "y = [10 ** d for d in y]\n",
    "model = piecewise(x, y)\n",
    "model"
   ]
  },
  {
   "cell_type": "code",
   "execution_count": 53,
   "metadata": {
    "kernel": "Python 3"
   },
   "outputs": [
    {
     "name": "stdout",
     "output_type": "stream",
     "text": [
      "Num segments: 3\n"
     ]
    },
    {
     "data": {
      "image/png": "[encoded data removed]",
      "text/plain": [
       "<Figure size 432x288 with 1 Axes>"
      ]
     },
     "metadata": {
      "needs_background": "light"
     },
     "output_type": "display_data"
    }
   ],
   "source": [
    "from piecewise import piecewise_plot\n",
    "piecewise_plot(x, y, model=model)"
   ]
  },
  {
   "cell_type": "code",
   "execution_count": 2,
   "metadata": {
    "kernel": "Python 3"
   },
   "outputs": [
    {
     "name": "stderr",
     "output_type": "stream",
     "text": [
      "/Users/azhark/anaconda3/lib/python3.7/site-packages/IPython/core/interactiveshell.py:3063: DtypeWarning: Columns (53) have mixed types.Specify dtype option on import or set low_memory=False.\n",
      "  interactivity=interactivity, compiler=compiler, result=result)\n"
     ]
    }
   ],
   "source": [
    "import pandas as pd\n",
    "c = pd.read_csv(\"data/PCAWG_Chromothripsis_Calls.tsv\", sep=\"\\t\")"
   ]
  },
  {
   "cell_type": "code",
   "execution_count": 3,
   "metadata": {},
   "outputs": [
    {
     "name": "stdout",
     "output_type": "stream",
     "text": [
      "<class 'pandas.core.frame.DataFrame'>\n",
      "RangeIndex: 55844 entries, 0 to 55843\n",
      "Data columns (total 73 columns):\n",
      " #   Column                                     Non-Null Count  Dtype  \n",
      "---  ------                                     --------------  -----  \n",
      " 0   donor_unique_id                            55844 non-null  object \n",
      " 1   Chr                                        55844 non-null  object \n",
      " 2   Start                                      26186 non-null  float64\n",
      " 3   End                                        26186 non-null  float64\n",
      " 4   Intrchr. SVs                               55844 non-null  int64  \n",
      " 5   Total SVs (intrachr. + transl.)            55844 non-null  int64  \n",
      " 6   SVs in sample                              55844 non-null  int64  \n",
      " 7   Nb. DEL                                    55844 non-null  int64  \n",
      " 8   Nb. DUP                                    55844 non-null  int64  \n",
      " 9   Nb. h2hINV                                 55844 non-null  int64  \n",
      " 10  Nb. t2tINV                                 55844 non-null  int64  \n",
      " 11  Nb. TRA                                    55844 non-null  int64  \n",
      " 12  P fragment joints                          26160 non-null  float64\n",
      " 13  P chr breakpoint enrichment                33245 non-null  float64\n",
      " 14  Nb. CN segments                            26158 non-null  float64\n",
      " 15  P exponential dist                         19182 non-null  float64\n",
      " 16  P exponential dist. cluster                18417 non-null  float64\n",
      " 17  CN segments                                13120 non-null  float64\n",
      " 18  Nb. oscillating CN                         13120 non-null  float64\n",
      " 19  Nb. oscillaring CN 3 states                13120 non-null  float64\n",
      " 20  CN segments chr.                           20547 non-null  float64\n",
      " 21  Nb. oscillating chr.                       20547 non-null  float64\n",
      " 22  Nb. oscillating chr 3 states               20547 non-null  float64\n",
      " 23  PGA sample                                 55844 non-null  float64\n",
      " 24  PGA chr.                                   55844 non-null  float64\n",
      " 25  PGNA chr.                                  55844 non-null  float64\n",
      " 26  clustered APOBEC mutations (<2.5 Kb)       55844 non-null  int64  \n",
      " 27  CN mode 1                                  55844 non-null  int64  \n",
      " 28  CN mode 2                                  50885 non-null  float64\n",
      " 29  wgs_exclusion_white_gray                   55844 non-null  object \n",
      " 30  dcc_project_code                           55844 non-null  object \n",
      " 31  Other interacting chromothripsis regions   55844 non-null  object \n",
      " 32  FDR fragment joints intrachr. SVs and TRA  26160 non-null  float64\n",
      " 33  FDR chr breakpoint enrichment              33245 non-null  float64\n",
      " 34  FDR exponential dist.                      19182 non-null  float64\n",
      " 35  FDR exponential dist. cluster              18417 non-null  float64\n",
      " 36  FDR fragment joints intrachr. SVs          26160 non-null  float64\n",
      " 37  chromo                                     55844 non-null  int64  \n",
      " 38  chromo_label                               55844 non-null  object \n",
      " 39  tissue.x                                   55844 non-null  object \n",
      " 40  donor_idx                                  55844 non-null  object \n",
      " 41  tissue2                                    55844 non-null  object \n",
      " 42  purity                                     55108 non-null  float64\n",
      " 43  ploidy                                     55108 non-null  float64\n",
      " 44  histo                                      55844 non-null  object \n",
      " 45  type_chromothripsis                        2987 non-null   object \n",
      " 46  Nb. breakpoints in chromosome              55844 non-null  int64  \n",
      " 47  Fraction SVs in chromothripsis             55844 non-null  float64\n",
      " 48  TP53_mutations                             17664 non-null  object \n",
      " 49  MDM2_CN                                    55844 non-null  int64  \n",
      " 50  project_code                               55844 non-null  object \n",
      " 51  icgc_donor_id                              55844 non-null  object \n",
      " 52  submitted_donor_id                         55844 non-null  object \n",
      " 53  tcga_donor_uuid                            17526 non-null  object \n",
      " 54  donor_sex                                  55844 non-null  object \n",
      " 55  donor_vital_status                         53153 non-null  object \n",
      " 56  donor_diagnosis_icd10                      52578 non-null  object \n",
      " 57  first_therapy_type                         19251 non-null  object \n",
      " 58  first_therapy_response                     10764 non-null  object \n",
      " 59  donor_age_at_diagnosis                     53176 non-null  float64\n",
      " 60  donor_survival_time                        34914 non-null  float64\n",
      " 61  donor_interval_of_last_followup            34799 non-null  float64\n",
      " 62  tobacco_smoking_history_indicator          23851 non-null  object \n",
      " 63  tobacco_smoking_intensity                  2254 non-null   float64\n",
      " 64  alcohol_history                            23851 non-null  object \n",
      " 65  alcohol_history_intensity                  23851 non-null  object \n",
      " 66  donor_wgs_included_excluded                55844 non-null  object \n",
      " 67  histology_abbreviation                     55844 non-null  object \n",
      " 68  tissue.y                                   55844 non-null  object \n",
      " 69  code                                       55844 non-null  object \n",
      " 70  event                                      55844 non-null  int64  \n",
      " 71  response                                   48254 non-null  float64\n",
      " 72  comment                                    258 non-null    object \n",
      "dtypes: float64(30), int64(14), object(29)\n",
      "memory usage: 31.1+ MB\n"
     ]
    }
   ],
   "source": [
    "c.info()"
   ]
  },
  {
   "cell_type": "code",
   "execution_count": 4,
   "metadata": {},
   "outputs": [
    {
     "data": {
      "text/plain": [
       "array(['No', 'High confidence', 'Low confidence',\n",
       "       'Linked to low confidence', 'Linked to high confidence'],\n",
       "      dtype=object)"
      ]
     },
     "execution_count": 4,
     "metadata": {},
     "output_type": "execute_result"
    }
   ],
   "source": [
    "c['chromo_label'].unique()"
   ]
  },
  {
   "cell_type": "code",
   "execution_count": 7,
   "metadata": {},
   "outputs": [],
   "source": [
    "#high_confidence = c[c['chromo_label'] == 'High confidence']\n",
    "high_confidence.to_csv(\"PCAWG_high_confidence_chromothripsis.tsv\", sep=\"\\t\", index=False)"
   ]
  },
  {
   "cell_type": "code",
   "execution_count": 9,
   "metadata": {},
   "outputs": [],
   "source": [
    "import pandas as pd\n",
    "df = pd.read_csv(\"/Users/azhark/iCloud/dev/SVMatrixGenerator/data/PCAWG/SV/MELA-AU_SV.bedpe.tsv\", sep=\"\\t\")\n",
    "for sample in df['sample'].unique():\n",
    "    sample_df = df[df['sample'] == sample]\n",
    "    sample_df.to_csv(\"/Users/azhark/iCloud/dev/SVMatrixGenerator/data/PCAWG/SV/MELA-AU/\" + sample + \"_MELA-AU_SV.bedpe.tsv\", sep=\"\\t\", index=False)"
   ]
  },
  {
   "cell_type": "code",
   "execution_count": null,
   "metadata": {},
   "outputs": [],
   "source": []
  }
 ],
 "metadata": {
  "kernelspec": {
   "display_name": "Python 3",
   "language": "python",
   "name": "python3"
  },
  "language_info": {
   "codemirror_mode": {
    "name": "ipython",
    "version": 3
   },
   "file_extension": ".py",
   "mimetype": "text/x-python",
   "name": "python",
   "nbconvert_exporter": "python",
   "pygments_lexer": "ipython3",
   "version": "3.7.9"
  },
  "sos": {
   "kernels": [
    [
     "Bash",
     "calysto_bash",
     "Bash",
     "#E6EEFF",
     ""
    ],
    [
     "Python 3",
     "python3",
     "python3",
     "",
     ""
    ],
    [
     "Python3",
     "python3",
     "Python3",
     "#FFD91A",
     ""
    ],
    [
     "SoS",
     "sos",
     "",
     "",
     "sos"
    ]
   ],
   "version": "0.21.7"
  }
 },
 "nbformat": 4,
 "nbformat_minor": 4
}
